{
 "cells": [
  {
   "cell_type": "code",
   "execution_count": 22,
   "id": "3ca2efd0",
   "metadata": {},
   "outputs": [],
   "source": [
    "import os\n",
    "import torch\n",
    "import argparse\n",
    "import numpy as np\n",
    "import shutil\n",
    "import os\n",
    "import glob\n",
    "import cv2\n",
    "from PIL import Image\n",
    "from tqdm import tqdm\n",
    "import shutil\n",
    "from torch.utils.data import DataLoader\n",
    "import torchvision.transforms as transforms\n",
    "\n",
    "from utils.transforms import transform_logits\n",
    "from datasets.simple_extractor_dataset import SimpleFolderDataset\n",
    "\n",
    "def main():\n",
    "    path_to_img_dataset='input_image'\n",
    "    filename_list = glob.glob(os.path.join(path_to_img_dataset,\"*.jpg\"))\n",
    "    for p in filename_list:\n",
    "        filename = p.split('/')\n",
    "        img = cv2.imread(p)\n",
    "        cv2.imwrite('Data_preprocessing/test_img/'+filename[1],img)\n",
    "    path_to_cloth_dataset='input_cloth'\n",
    "    filename_list = glob.glob(os.path.join(path_to_cloth_dataset,\"*.jpg\"))\n",
    "    for p in filename_list:\n",
    "        filename = p.split('/')\n",
    "        img = cv2.imread(p)\n",
    "        cv2.imwrite('Data_preprocessing/test_color/'+filename[1],img)\n",
    "        img_gray=cv2.cvtColor(img, cv2.COLOR_BGR2GRAY)\n",
    "        ret ,img_gray = cv2.threshold(img_gray, 254, 255, cv2.THRESH_BINARY_INV)\n",
    "        img_gray = cv2.medianBlur(img_gray, 25)\n",
    "        img_gray=cv2.resize(img_gray,(192,256),interpolation=cv2.INTER_AREA)\n",
    "        cv2.imwrite('Data_preprocessing/test_edge/'+filename[1],img_gray)\n",
    "    path_to_img_dataset='input_keypoint'\n",
    "    filename_list = glob.glob(os.path.join(path_to_img_dataset,\"*.json\"))\n",
    "    for p in filename_list:\n",
    "        filename = p.split('/')\n",
    "        shutil.move(p,'Data_preprocessing/test_pose/'+filename[1])     \n",
    "    return\n",
    "if __name__ == '__main__':\n",
    "    main()"
   ]
  },
  {
   "cell_type": "code",
   "execution_count": 6,
   "id": "d4fc1640",
   "metadata": {},
   "outputs": [
    {
     "name": "stderr",
     "output_type": "stream",
     "text": [
      "usage: ipykernel_launcher.py [-h] [--dataset {lip,atr,pascal}]\n",
      "                             [--model-restore MODEL_RESTORE] [--gpu GPU]\n",
      "                             [--input-image-dir INPUT_IMAGE_DIR]\n",
      "                             [--input-cloth-dir INPUT_CLOTH_DIR]\n",
      "                             [--input-keypoint-dir INPUT_KEYPOINT_DIR]\n",
      "                             [--output-cloth-dir OUTPUT_CLOTH_DIR]\n",
      "                             [--output-edge-dir OUTPUT_EDGE_DIR]\n",
      "                             [--output-image-dir OUTPUT_IMAGE_DIR]\n",
      "                             [--output-label-dir OUTPUT_LABEL_DIR]\n",
      "                             [--output-keypoint-dir OUTPUT_KEYPOINT_DIR]\n",
      "                             [--logits]\n",
      "ipykernel_launcher.py: error: unrecognized arguments: -f /home/tolinlaws/.local/share/jupyter/runtime/kernel-f319ca2d-0cfe-4e69-95c3-6695e7238e3c.json\n"
     ]
    },
    {
     "ename": "SystemExit",
     "evalue": "2",
     "output_type": "error",
     "traceback": [
      "An exception has occurred, use %tb to see the full traceback.\n",
      "\u001b[0;31mSystemExit\u001b[0m\u001b[0;31m:\u001b[0m 2\n"
     ]
    }
   ],
   "source": []
  }
 ],
 "metadata": {
  "kernelspec": {
   "display_name": "Python 3.8.10 64-bit (windows store)",
   "language": "python",
   "name": "python3"
  },
  "language_info": {
   "codemirror_mode": {
    "name": "ipython",
    "version": 3
   },
   "file_extension": ".py",
   "mimetype": "text/x-python",
   "name": "python",
   "nbconvert_exporter": "python",
   "pygments_lexer": "ipython3",
   "version": "3.8.10"
  },
  "vscode": {
   "interpreter": {
    "hash": "95a22eaad15357b8581a3e85dc7deb44b392b83f2a0c98c7572069d11874febe"
   }
  }
 },
 "nbformat": 4,
 "nbformat_minor": 5
}
